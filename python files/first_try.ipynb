{
 "cells": [
  {
   "cell_type": "code",
   "execution_count": null,
   "metadata": {},
   "outputs": [],
   "source": [
    "from ig_trading import IGService\n",
    "\n",
    "# Create a new IG API session\n",
    "ig_service = IGService(\"username\", \"password\", \"api_key\")\n",
    "ig_service.create_session()\n",
    "\n",
    "# Fetch market data for a specific instrument\n",
    "market_data = ig_service.fetch_market_by_epic(\"CS.D.EURUSD.TODAY.IP\")\n",
    "\n",
    "# Analyze the market data and develop your trading strategy\n",
    "\n",
    "# ...\n",
    "\n"
   ]
  },
  {
   "cell_type": "code",
   "execution_count": null,
   "metadata": {},
   "outputs": [],
   "source": [
    "# Place a trade using the IG API\n",
    "response = ig_service.create_open_position(\n",
    "    epic=\"CS.D.EURUSD.TODAY.IP\",\n",
    "    expiry=\"-\",\n",
    "    direction=\"BUY\",\n",
    "    size=1,\n",
    "    order_type=\"MARKET\",\n",
    "    level=None,\n",
    "    currency_code=\"USD\",\n",
    "    force_open=True,\n",
    "    guaranteed_stop=False,\n",
    "    stop_level=None,\n",
    "    stop_distance=None,\n",
    "    limit_level=None,\n",
    "    limit_distance=None,\n",
    "    trailing_stop=None,\n",
    "    trailing_stop_increment=None,\n",
    "    quote_id=None,\n",
    ")\n",
    "\n",
    "print(response)\n"
   ]
  }
 ],
 "metadata": {
  "kernelspec": {
   "display_name": "PythonData",
   "language": "python",
   "name": "python3"
  },
  "language_info": {
   "name": "python",
   "version": "3.6.10"
  },
  "orig_nbformat": 4,
  "vscode": {
   "interpreter": {
    "hash": "264db5e21f4419473513f429735a66bc06dc97d1853f532f8f590e4a28bbee6e"
   }
  }
 },
 "nbformat": 4,
 "nbformat_minor": 2
}
